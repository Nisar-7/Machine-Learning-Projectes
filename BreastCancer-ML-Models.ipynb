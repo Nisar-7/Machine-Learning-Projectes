{
 "cells": [
  {
   "cell_type": "markdown",
   "id": "fb3af6bc",
   "metadata": {},
   "source": [
    "## Importing :"
   ]
  },
  {
   "cell_type": "code",
   "execution_count": null,
   "id": "5670dffc",
   "metadata": {},
   "outputs": [],
   "source": [
    "from sklearn.datasets import load_breast_cancer \n",
    "from sklearn.model_selection import train_test_split\n",
    "from sklearn.preprocessing import MinMaxScaler  \n",
    "from sklearn.naive_bayes import GaussianNB\n",
    "from sklearn.metrics import accuracy_score,precision_score,recall_score\n",
    "from sklearn.neighbors import KNeighborsClassifier\n",
    "from sklearn.tree import DecisionTreeClassifier\n",
    "from sklearn.ensemble import RandomForestClassifier\n",
    "from sklearn.svm import SVC\n",
    "from sklearn.linear_model import LogisticRegression\n",
    "from sklearn.neural_network import MLPClassifier\n",
    "import matplotlib.pyplot as plt"
   ]
  },
  {
   "cell_type": "markdown",
   "id": "9905d3a0",
   "metadata": {},
   "source": [
    "## Load Data and split :"
   ]
  },
  {
   "cell_type": "code",
   "execution_count": null,
   "id": "b98daf5e",
   "metadata": {},
   "outputs": [],
   "source": [
    "bc=load_breast_cancer()\n",
    "x_train,x_test,y_train,y_test=train_test_split(bc.data,bc.target,test_size=0.2)"
   ]
  },
  {
   "cell_type": "markdown",
   "id": "c1a44a2d",
   "metadata": {},
   "source": [
    "## preprocessing :"
   ]
  },
  {
   "cell_type": "code",
   "execution_count": null,
   "id": "f688927c",
   "metadata": {},
   "outputs": [],
   "source": [
    "scaller=MinMaxScaler(feature_range=(0,1))\n",
    "\n",
    "x_train=scaller.fit_transform(x_train)\n",
    "x_test=scaller.transform(x_test)"
   ]
  },
  {
   "cell_type": "markdown",
   "id": "3480f3ae",
   "metadata": {},
   "source": [
    "## Calculat (accuracy, precision and recall) "
   ]
  },
  {
   "cell_type": "code",
   "execution_count": null,
   "id": "a49dee82",
   "metadata": {},
   "outputs": [],
   "source": [
    "def calculat_matrix(y_train,y_test,pred_x_train,pred_x_test):  \n",
    "    acc_train = accuracy_score(y_true=y_train,y_pred=pred_x_train)\n",
    "    acc_test = accuracy_score(y_test,pred_x_test)\n",
    "    precision = precision_score(y_true=y_test,y_pred=pred_x_test)\n",
    "    recall = recall_score(y_true=y_test,y_pred=pred_x_test)\n",
    "\n",
    "    print(f\"acc_tran=> {acc_train} - acc_test=> {acc_test} - presion=> {precision} - recall=>{recall}\")\n",
    "\n",
    "    return acc_train,acc_test, precision , recall"
   ]
  },
  {
   "cell_type": "markdown",
   "id": "70c636d3",
   "metadata": {},
   "source": [
    "## LOgistic Regresion :"
   ]
  },
  {
   "cell_type": "code",
   "execution_count": null,
   "id": "8433860a",
   "metadata": {},
   "outputs": [],
   "source": [
    "lr=LogisticRegression(max_iter=150)  # we do not change LOT OF THIS algorithm you know \n",
    "lr.fit(x_train,y_train)\n",
    "\n",
    "\n",
    "\n",
    "pred_x_train=lr.predict(x_train) # just copy and change the name\n",
    "pred_x_test=lr.predict(x_test)\n",
    "acc_train_lr,acc_test_lr,p_lr,r_lr=calculat_matrix(y_train,y_test,pred_x_train,pred_x_test)\n"
   ]
  },
  {
   "cell_type": "markdown",
   "id": "eb442195",
   "metadata": {},
   "source": [
    "## GaussianNB :"
   ]
  },
  {
   "cell_type": "code",
   "execution_count": null,
   "id": "453958e9",
   "metadata": {},
   "outputs": [],
   "source": [
    "gnb=GaussianNB()\n",
    "gnb.fit(x_train,y_train)\n",
    "pred_x_train = gnb.predict(x_train)\n",
    "pred_x_test = gnb.predict(x_test)\n",
    "acc_train_gnb, acc_test_gnb, p_gnb, r_gnb = calculat_matrix(y_train,y_test,pred_x_train,pred_x_test)"
   ]
  },
  {
   "cell_type": "markdown",
   "id": "198bb5b4",
   "metadata": {},
   "source": [
    "## KNN :"
   ]
  },
  {
   "cell_type": "code",
   "execution_count": null,
   "id": "a983f654",
   "metadata": {},
   "outputs": [],
   "source": [
    "knn = KNeighborsClassifier(n_neighbors=8,algorithm='kd_tree',leaf_size=28)# if this bee lot it the \"pijadagi\" is lettle \n",
    "knn.fit(x_train,y_train)\n",
    "pred_x_train=knn.predict(x_train) \n",
    "pred_x_test=knn.predict(x_test)\n",
    "acc_train_knn,acc_test_knn,p_knn,r_knn=calculat_matrix(y_train,y_test,pred_x_train,pred_x_test)"
   ]
  },
  {
   "cell_type": "markdown",
   "id": "f32e7ef1",
   "metadata": {},
   "source": [
    "## random Forest :"
   ]
  },
  {
   "cell_type": "code",
   "execution_count": null,
   "id": "f3b963f8",
   "metadata": {},
   "outputs": [],
   "source": [
    "\n",
    "rf = RandomForestClassifier(n_estimators=500,max_depth=64,min_samples_split=8)  \n",
    "\n",
    "\n",
    "pred_x_train=rf.predict(x_train) \n",
    "pred_x_test=rf.predict(x_test)\n",
    "acc_train_rf,acc_test_rf,p_rf,r_rf=calculat_matrix(y_train,y_test,pred_x_train,pred_x_test)\n"
   ]
  },
  {
   "cell_type": "markdown",
   "id": "aae53097",
   "metadata": {},
   "source": [
    "## SVM :"
   ]
  },
  {
   "cell_type": "code",
   "execution_count": null,
   "id": "bb99b5ea",
   "metadata": {},
   "outputs": [],
   "source": [
    "svm=SVC(kernel='poly',)\n",
    "svm.fit(x_train,y_train)\n",
    "\n",
    "\n",
    "pred_x_train=svm.predict(x_train) \n",
    "pred_x_test=svm.predict(x_test)\n",
    "acc_train_svm,acc_test_svm,p_svm,r_svm = calculat_matrix(y_train,y_test,pred_x_train,pred_x_test)\n",
    "\n"
   ]
  },
  {
   "cell_type": "markdown",
   "id": "a0979b71",
   "metadata": {},
   "source": [
    "## ANN :"
   ]
  },
  {
   "cell_type": "code",
   "execution_count": null,
   "id": "8811ddf9",
   "metadata": {},
   "outputs": [],
   "source": [
    "ann=MLPClassifier(hidden_layer_sizes=512,activation=\"tanh\",solver='sgd')  # change this algorithm you know and find the best one fo that you know this \n",
    "ann.fit(x_train,y_train)\n",
    "\n",
    "pred_x_train=ann.predict(x_train) # just copy and change the name\n",
    "pred_x_test=ann.predict(x_test)"
   ]
  },
  {
   "cell_type": "markdown",
   "id": "ee4ee5c7",
   "metadata": {},
   "source": [
    "## Compresion the all Model :"
   ]
  },
  {
   "cell_type": "code",
   "execution_count": null,
   "id": "252095eb",
   "metadata": {},
   "outputs": [],
   "source": [
    "acc_train=[acc_train_gnb,acc_train_knn,acc_train_svm,acc_train_rf,acc_train_dt,acc_train_lr,acc_train_ann]\n",
    "title = [\"GNB\",\"KNN\",\"SVM\",\"RF\",\"DT\",\"LR\",\"ANN\"]\n",
    "colors=[\"black\",\"yellow\",\"blue\",\"pink\",\"red\",\"orange\",\"green\"]\n",
    "plt.bar(title,acc_train,color=colors)\n",
    "plt.grid()\n",
    "plt.show()"
   ]
  }
 ],
 "metadata": {
  "language_info": {
   "name": "python"
  }
 },
 "nbformat": 4,
 "nbformat_minor": 5
}
